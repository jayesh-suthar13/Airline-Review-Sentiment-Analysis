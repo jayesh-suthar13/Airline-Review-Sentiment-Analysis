{
  "nbformat": 4,
  "nbformat_minor": 0,
  "metadata": {
    "colab": {
      "provenance": []
    },
    "kernelspec": {
      "name": "python3",
      "display_name": "Python 3"
    },
    "language_info": {
      "name": "python"
    }
  },
  "cells": [
    {
      "cell_type": "markdown",
      "source": [
        "**1. WEB SCRAPING**"
      ],
      "metadata": {
        "id": "AhBYQNptQbFy"
      }
    },
    {
      "cell_type": "code",
      "source": [
        "import pandas as pd\n",
        "import requests\n",
        "from bs4 import BeautifulSoup"
      ],
      "metadata": {
        "id": "CuYZSBH0ULR2"
      },
      "execution_count": null,
      "outputs": []
    },
    {
      "cell_type": "code",
      "source": [
        "webpage=requests.get('https://www.airlinequality.com/airline-reviews/british-airways/?sortby=post_date%3ADesc&pagesize=100&page={i}').text"
      ],
      "metadata": {
        "id": "A15onAsXULOb"
      },
      "execution_count": null,
      "outputs": []
    },
    {
      "cell_type": "code",
      "source": [
        "soup=BeautifulSoup(webpage,'lxml')"
      ],
      "metadata": {
        "id": "KHMbMHhGULMN"
      },
      "execution_count": null,
      "outputs": []
    },
    {
      "cell_type": "code",
      "source": [
        "review=[]\n",
        "stars=[]\n",
        "date=[]\n",
        "country=[]"
      ],
      "metadata": {
        "id": "qxo0WpCWvNq7"
      },
      "execution_count": null,
      "outputs": []
    },
    {
      "cell_type": "code",
      "source": [
        "for i in range (1,40):\n",
        "  webpage=requests.get(\"https://www.airlinequality.com/airline-reviews/british-airways/?sortby=post_date%3ADesc&pagesize=100&pagesize=100\").text\n",
        "  soup=BeautifulSoup(webpage, 'lxml')\n",
        "\n",
        "  for j in soup.find_all('div',class_='text_content'):\n",
        "     review.append(j.text)\n",
        "  for j in soup.find_all('div',class_='rating-10'):\n",
        "     if j.get('itemprop')=='reviewRating':\n",
        "       try:\n",
        "          stars.append(j.find('span',itemprop='ratingValue').text.strip())\n",
        "       except:\n",
        "          print(f'error on page{i}')\n",
        "          stars.append(\"none\")\n",
        "  for j in soup.find_all('time'):\n",
        "    date.append(j.text)\n",
        "  for j in soup.find_all('h3'):\n",
        "    country.append(j.span.next_sibling.text.strip(\"()\"))\n",
        "\n",
        "\n",
        "\n"
      ],
      "metadata": {
        "id": "zfh9eRet4RRn"
      },
      "execution_count": null,
      "outputs": []
    },
    {
      "cell_type": "code",
      "source": [
        "print(len(review))\n",
        "print(len(stars))\n",
        "print(len(date))\n",
        "print(len(country))\n"
      ],
      "metadata": {
        "colab": {
          "base_uri": "https://localhost:8080/"
        },
        "id": "UNQkEYq22idg",
        "outputId": "e864ef16-81c9-4b1d-e649-d358887dac2e"
      },
      "execution_count": null,
      "outputs": [
        {
          "output_type": "stream",
          "name": "stdout",
          "text": [
            "3900\n",
            "3900\n",
            "3900\n",
            "3900\n"
          ]
        }
      ]
    },
    {
      "cell_type": "code",
      "source": [
        "df=pd.DataFrame({\"review\":review,\"stars\":stars,\"date\":date,\"country\":country})"
      ],
      "metadata": {
        "id": "2AuqxeLwvm_h"
      },
      "execution_count": null,
      "outputs": []
    },
    {
      "cell_type": "code",
      "source": [
        "df.head()"
      ],
      "metadata": {
        "id": "VsSo8oqzvNmh",
        "colab": {
          "base_uri": "https://localhost:8080/",
          "height": 293
        },
        "outputId": "07c3cf79-3e2d-4f94-e42b-b717e7876fdc"
      },
      "execution_count": null,
      "outputs": [
        {
          "output_type": "execute_result",
          "data": {
            "text/plain": [
              "                                              review stars            date  \\\n",
              "0  ✅ Trip Verified |   Although we had mobile boa...     5  26th July 2025   \n",
              "1  ✅ Trip Verified |   Booking through the Britis...     9  25th July 2025   \n",
              "2  ✅ Trip Verified |  Abysmal experience with fli...     2  23rd July 2025   \n",
              "3  ✅ Trip Verified |  Check in at Miami was quick...     4  22nd July 2025   \n",
              "4  ✅ Trip Verified |  Our BA Airbus 380 premium e...     6  17th July 2025   \n",
              "\n",
              "              country  \n",
              "0    (United States)   \n",
              "1   (United Kingdom)   \n",
              "2   (United Kingdom)   \n",
              "3   (United Kingdom)   \n",
              "4    (United States)   "
            ],
            "text/html": [
              "\n",
              "  <div id=\"df-7dc06fb5-6759-4666-824b-7bca7dcd8c70\" class=\"colab-df-container\">\n",
              "    <div>\n",
              "<style scoped>\n",
              "    .dataframe tbody tr th:only-of-type {\n",
              "        vertical-align: middle;\n",
              "    }\n",
              "\n",
              "    .dataframe tbody tr th {\n",
              "        vertical-align: top;\n",
              "    }\n",
              "\n",
              "    .dataframe thead th {\n",
              "        text-align: right;\n",
              "    }\n",
              "</style>\n",
              "<table border=\"1\" class=\"dataframe\">\n",
              "  <thead>\n",
              "    <tr style=\"text-align: right;\">\n",
              "      <th></th>\n",
              "      <th>review</th>\n",
              "      <th>stars</th>\n",
              "      <th>date</th>\n",
              "      <th>country</th>\n",
              "    </tr>\n",
              "  </thead>\n",
              "  <tbody>\n",
              "    <tr>\n",
              "      <th>0</th>\n",
              "      <td>✅ Trip Verified |   Although we had mobile boa...</td>\n",
              "      <td>5</td>\n",
              "      <td>26th July 2025</td>\n",
              "      <td>(United States)</td>\n",
              "    </tr>\n",
              "    <tr>\n",
              "      <th>1</th>\n",
              "      <td>✅ Trip Verified |   Booking through the Britis...</td>\n",
              "      <td>9</td>\n",
              "      <td>25th July 2025</td>\n",
              "      <td>(United Kingdom)</td>\n",
              "    </tr>\n",
              "    <tr>\n",
              "      <th>2</th>\n",
              "      <td>✅ Trip Verified |  Abysmal experience with fli...</td>\n",
              "      <td>2</td>\n",
              "      <td>23rd July 2025</td>\n",
              "      <td>(United Kingdom)</td>\n",
              "    </tr>\n",
              "    <tr>\n",
              "      <th>3</th>\n",
              "      <td>✅ Trip Verified |  Check in at Miami was quick...</td>\n",
              "      <td>4</td>\n",
              "      <td>22nd July 2025</td>\n",
              "      <td>(United Kingdom)</td>\n",
              "    </tr>\n",
              "    <tr>\n",
              "      <th>4</th>\n",
              "      <td>✅ Trip Verified |  Our BA Airbus 380 premium e...</td>\n",
              "      <td>6</td>\n",
              "      <td>17th July 2025</td>\n",
              "      <td>(United States)</td>\n",
              "    </tr>\n",
              "  </tbody>\n",
              "</table>\n",
              "</div>\n",
              "    <div class=\"colab-df-buttons\">\n",
              "\n",
              "  <div class=\"colab-df-container\">\n",
              "    <button class=\"colab-df-convert\" onclick=\"convertToInteractive('df-7dc06fb5-6759-4666-824b-7bca7dcd8c70')\"\n",
              "            title=\"Convert this dataframe to an interactive table.\"\n",
              "            style=\"display:none;\">\n",
              "\n",
              "  <svg xmlns=\"http://www.w3.org/2000/svg\" height=\"24px\" viewBox=\"0 -960 960 960\">\n",
              "    <path d=\"M120-120v-720h720v720H120Zm60-500h600v-160H180v160Zm220 220h160v-160H400v160Zm0 220h160v-160H400v160ZM180-400h160v-160H180v160Zm440 0h160v-160H620v160ZM180-180h160v-160H180v160Zm440 0h160v-160H620v160Z\"/>\n",
              "  </svg>\n",
              "    </button>\n",
              "\n",
              "  <style>\n",
              "    .colab-df-container {\n",
              "      display:flex;\n",
              "      gap: 12px;\n",
              "    }\n",
              "\n",
              "    .colab-df-convert {\n",
              "      background-color: #E8F0FE;\n",
              "      border: none;\n",
              "      border-radius: 50%;\n",
              "      cursor: pointer;\n",
              "      display: none;\n",
              "      fill: #1967D2;\n",
              "      height: 32px;\n",
              "      padding: 0 0 0 0;\n",
              "      width: 32px;\n",
              "    }\n",
              "\n",
              "    .colab-df-convert:hover {\n",
              "      background-color: #E2EBFA;\n",
              "      box-shadow: 0px 1px 2px rgba(60, 64, 67, 0.3), 0px 1px 3px 1px rgba(60, 64, 67, 0.15);\n",
              "      fill: #174EA6;\n",
              "    }\n",
              "\n",
              "    .colab-df-buttons div {\n",
              "      margin-bottom: 4px;\n",
              "    }\n",
              "\n",
              "    [theme=dark] .colab-df-convert {\n",
              "      background-color: #3B4455;\n",
              "      fill: #D2E3FC;\n",
              "    }\n",
              "\n",
              "    [theme=dark] .colab-df-convert:hover {\n",
              "      background-color: #434B5C;\n",
              "      box-shadow: 0px 1px 3px 1px rgba(0, 0, 0, 0.15);\n",
              "      filter: drop-shadow(0px 1px 2px rgba(0, 0, 0, 0.3));\n",
              "      fill: #FFFFFF;\n",
              "    }\n",
              "  </style>\n",
              "\n",
              "    <script>\n",
              "      const buttonEl =\n",
              "        document.querySelector('#df-7dc06fb5-6759-4666-824b-7bca7dcd8c70 button.colab-df-convert');\n",
              "      buttonEl.style.display =\n",
              "        google.colab.kernel.accessAllowed ? 'block' : 'none';\n",
              "\n",
              "      async function convertToInteractive(key) {\n",
              "        const element = document.querySelector('#df-7dc06fb5-6759-4666-824b-7bca7dcd8c70');\n",
              "        const dataTable =\n",
              "          await google.colab.kernel.invokeFunction('convertToInteractive',\n",
              "                                                    [key], {});\n",
              "        if (!dataTable) return;\n",
              "\n",
              "        const docLinkHtml = 'Like what you see? Visit the ' +\n",
              "          '<a target=\"_blank\" href=https://colab.research.google.com/notebooks/data_table.ipynb>data table notebook</a>'\n",
              "          + ' to learn more about interactive tables.';\n",
              "        element.innerHTML = '';\n",
              "        dataTable['output_type'] = 'display_data';\n",
              "        await google.colab.output.renderOutput(dataTable, element);\n",
              "        const docLink = document.createElement('div');\n",
              "        docLink.innerHTML = docLinkHtml;\n",
              "        element.appendChild(docLink);\n",
              "      }\n",
              "    </script>\n",
              "  </div>\n",
              "\n",
              "\n",
              "    <div id=\"df-2e2b9d43-6dfb-4b7b-9f5f-f85818d42ae7\">\n",
              "      <button class=\"colab-df-quickchart\" onclick=\"quickchart('df-2e2b9d43-6dfb-4b7b-9f5f-f85818d42ae7')\"\n",
              "                title=\"Suggest charts\"\n",
              "                style=\"display:none;\">\n",
              "\n",
              "<svg xmlns=\"http://www.w3.org/2000/svg\" height=\"24px\"viewBox=\"0 0 24 24\"\n",
              "     width=\"24px\">\n",
              "    <g>\n",
              "        <path d=\"M19 3H5c-1.1 0-2 .9-2 2v14c0 1.1.9 2 2 2h14c1.1 0 2-.9 2-2V5c0-1.1-.9-2-2-2zM9 17H7v-7h2v7zm4 0h-2V7h2v10zm4 0h-2v-4h2v4z\"/>\n",
              "    </g>\n",
              "</svg>\n",
              "      </button>\n",
              "\n",
              "<style>\n",
              "  .colab-df-quickchart {\n",
              "      --bg-color: #E8F0FE;\n",
              "      --fill-color: #1967D2;\n",
              "      --hover-bg-color: #E2EBFA;\n",
              "      --hover-fill-color: #174EA6;\n",
              "      --disabled-fill-color: #AAA;\n",
              "      --disabled-bg-color: #DDD;\n",
              "  }\n",
              "\n",
              "  [theme=dark] .colab-df-quickchart {\n",
              "      --bg-color: #3B4455;\n",
              "      --fill-color: #D2E3FC;\n",
              "      --hover-bg-color: #434B5C;\n",
              "      --hover-fill-color: #FFFFFF;\n",
              "      --disabled-bg-color: #3B4455;\n",
              "      --disabled-fill-color: #666;\n",
              "  }\n",
              "\n",
              "  .colab-df-quickchart {\n",
              "    background-color: var(--bg-color);\n",
              "    border: none;\n",
              "    border-radius: 50%;\n",
              "    cursor: pointer;\n",
              "    display: none;\n",
              "    fill: var(--fill-color);\n",
              "    height: 32px;\n",
              "    padding: 0;\n",
              "    width: 32px;\n",
              "  }\n",
              "\n",
              "  .colab-df-quickchart:hover {\n",
              "    background-color: var(--hover-bg-color);\n",
              "    box-shadow: 0 1px 2px rgba(60, 64, 67, 0.3), 0 1px 3px 1px rgba(60, 64, 67, 0.15);\n",
              "    fill: var(--button-hover-fill-color);\n",
              "  }\n",
              "\n",
              "  .colab-df-quickchart-complete:disabled,\n",
              "  .colab-df-quickchart-complete:disabled:hover {\n",
              "    background-color: var(--disabled-bg-color);\n",
              "    fill: var(--disabled-fill-color);\n",
              "    box-shadow: none;\n",
              "  }\n",
              "\n",
              "  .colab-df-spinner {\n",
              "    border: 2px solid var(--fill-color);\n",
              "    border-color: transparent;\n",
              "    border-bottom-color: var(--fill-color);\n",
              "    animation:\n",
              "      spin 1s steps(1) infinite;\n",
              "  }\n",
              "\n",
              "  @keyframes spin {\n",
              "    0% {\n",
              "      border-color: transparent;\n",
              "      border-bottom-color: var(--fill-color);\n",
              "      border-left-color: var(--fill-color);\n",
              "    }\n",
              "    20% {\n",
              "      border-color: transparent;\n",
              "      border-left-color: var(--fill-color);\n",
              "      border-top-color: var(--fill-color);\n",
              "    }\n",
              "    30% {\n",
              "      border-color: transparent;\n",
              "      border-left-color: var(--fill-color);\n",
              "      border-top-color: var(--fill-color);\n",
              "      border-right-color: var(--fill-color);\n",
              "    }\n",
              "    40% {\n",
              "      border-color: transparent;\n",
              "      border-right-color: var(--fill-color);\n",
              "      border-top-color: var(--fill-color);\n",
              "    }\n",
              "    60% {\n",
              "      border-color: transparent;\n",
              "      border-right-color: var(--fill-color);\n",
              "    }\n",
              "    80% {\n",
              "      border-color: transparent;\n",
              "      border-right-color: var(--fill-color);\n",
              "      border-bottom-color: var(--fill-color);\n",
              "    }\n",
              "    90% {\n",
              "      border-color: transparent;\n",
              "      border-bottom-color: var(--fill-color);\n",
              "    }\n",
              "  }\n",
              "</style>\n",
              "\n",
              "      <script>\n",
              "        async function quickchart(key) {\n",
              "          const quickchartButtonEl =\n",
              "            document.querySelector('#' + key + ' button');\n",
              "          quickchartButtonEl.disabled = true;  // To prevent multiple clicks.\n",
              "          quickchartButtonEl.classList.add('colab-df-spinner');\n",
              "          try {\n",
              "            const charts = await google.colab.kernel.invokeFunction(\n",
              "                'suggestCharts', [key], {});\n",
              "          } catch (error) {\n",
              "            console.error('Error during call to suggestCharts:', error);\n",
              "          }\n",
              "          quickchartButtonEl.classList.remove('colab-df-spinner');\n",
              "          quickchartButtonEl.classList.add('colab-df-quickchart-complete');\n",
              "        }\n",
              "        (() => {\n",
              "          let quickchartButtonEl =\n",
              "            document.querySelector('#df-2e2b9d43-6dfb-4b7b-9f5f-f85818d42ae7 button');\n",
              "          quickchartButtonEl.style.display =\n",
              "            google.colab.kernel.accessAllowed ? 'block' : 'none';\n",
              "        })();\n",
              "      </script>\n",
              "    </div>\n",
              "\n",
              "    </div>\n",
              "  </div>\n"
            ],
            "application/vnd.google.colaboratory.intrinsic+json": {
              "type": "dataframe",
              "variable_name": "df",
              "summary": "{\n  \"name\": \"df\",\n  \"rows\": 3900,\n  \"fields\": [\n    {\n      \"column\": \"review\",\n      \"properties\": {\n        \"dtype\": \"category\",\n        \"num_unique_values\": 100,\n        \"samples\": [\n          \"\\u2705 Trip Verified |   Appalling service with failing defective fleet of A380 aircraft. Flown four times on this route or return and significant delays of 2 to 26 hours every time. BA56 boarded 6:20pm on 13 October. Flight cancelled for technical reasons. Six hours to return through customs and recover bag. No BA management at all at Johannesburg that night. Further four hours to organise a hotel and transfer with queues of 300 people to check in. Room eventually accessed 4:30am No attempt to re-schedule or assist - Pilot trying to announce process.\",\n          \"\\u2705 Trip Verified |   After an excellent flight on a 777 CPT to LHR the return was not as good. BA have moved the Business Class checkin from one end of the hall to the other at T5 for no apparent reason so a nice long walk to check in. Fast Track security was very slow (15 minutes). The indicator board suggested the South Lounge was \\\"half full\\\" but when I went it was uncomfortably full and it is still tatty as not refurbished, so I went to the B Pier lounge instead. Much better except as usual the staff are sort of trying to pack up early and have a bizarre way of refilling the food containers which involves actually removing them to the kitchen (which means they are gone a lot of the time) rather than replenishing them customer side. Very employee-centric behaviour. Time for the flight so down to the transit to take us to the C Gates. Except the transit had decided not to stop any more at the B Gates so we watched five maybe seven transits pass through without stopping. Eventually me and a group of maybe 15 other passengers of mixed ages decided to descend to the walkway and run all the way to the C Gates. We all arrived soaked in sweat - not a nice start to a long business class flight. The A380 is spacious but the seat is outdated now and in urgent need of replacement. IFE was not working and had to be rebooted. The headphone prong was bent so headphones not working. The USB port was not working. Drinks were brought out promptly. Starter (salmon) was delicious - truly excellent. Beef was tough ... I think a bad piece of meat rather than badly cooked. Wines were good. Cheese was average to good. Staff were friendly. Good night's sleep. Breakfast good. The recheck experience at JNB is a huge hassle - there is a giant screen saying \\\"Domestic recheck\\\" and a queue but when you get to the front of the queue you are told it is SAFAIR only and not for SAA, BA's local partner. What a hassle. Why aren't we warned or told this ... loads of BA passengers making the same mistake. Overall 5/10. It's the little things that would make this better: fast track actually fast track. Refurbish the South Lounge. Have food replenishment in the passenger area, not the kitchen; make sure the transits stop, even late in the evening; refurbish the A380s; ask Do & Co (who are generally excellent by the way) to monitor meat quality rigorously.\",\n          \"\\u2705 Trip Verified |   Flight cancelled, not refunding our money saying we took the flight that never happened. Not refunding the new flights we booked, hotels, food while we were stranded. Did not provide food or water while waiting for hours on tarmac. Will not provide information as to why they aren't refunding the flight that never happened. Saying there is no more information.\"\n        ],\n        \"semantic_type\": \"\",\n        \"description\": \"\"\n      }\n    },\n    {\n      \"column\": \"stars\",\n      \"properties\": {\n        \"dtype\": \"category\",\n        \"num_unique_values\": 10,\n        \"samples\": [\n          \"3\",\n          \"9\",\n          \"7\"\n        ],\n        \"semantic_type\": \"\",\n        \"description\": \"\"\n      }\n    },\n    {\n      \"column\": \"date\",\n      \"properties\": {\n        \"dtype\": \"category\",\n        \"num_unique_values\": 79,\n        \"samples\": [\n          \"28th February 2025\",\n          \"26th July 2025\",\n          \"13th April 2025\"\n        ],\n        \"semantic_type\": \"\",\n        \"description\": \"\"\n      }\n    },\n    {\n      \"column\": \"country\",\n      \"properties\": {\n        \"dtype\": \"category\",\n        \"num_unique_values\": 14,\n        \"samples\": [\n          \" (Iceland) \",\n          \" (Turkey) \",\n          \" (United States) \"\n        ],\n        \"semantic_type\": \"\",\n        \"description\": \"\"\n      }\n    }\n  ]\n}"
            }
          },
          "metadata": {},
          "execution_count": 103
        }
      ]
    },
    {
      "cell_type": "code",
      "source": [
        "import os\n",
        "cwd=os.getcwd()\n",
        "df.to_csv(cwd+\"/BA_reviews.csv\")"
      ],
      "metadata": {
        "id": "S9dB8XzYPU6Y"
      },
      "execution_count": null,
      "outputs": []
    },
    {
      "cell_type": "code",
      "source": [],
      "metadata": {
        "id": "JDIa7bt7Q-D2"
      },
      "execution_count": null,
      "outputs": []
    },
    {
      "cell_type": "code",
      "source": [],
      "metadata": {
        "id": "XKR6oUsBQ-Af"
      },
      "execution_count": null,
      "outputs": []
    },
    {
      "cell_type": "code",
      "source": [],
      "metadata": {
        "id": "u8ov-ggoQ9-V"
      },
      "execution_count": null,
      "outputs": []
    },
    {
      "cell_type": "code",
      "source": [],
      "metadata": {
        "id": "G3ylKUQDQ97-"
      },
      "execution_count": null,
      "outputs": []
    },
    {
      "cell_type": "code",
      "source": [],
      "metadata": {
        "id": "dcifEZ01Q95Z"
      },
      "execution_count": null,
      "outputs": []
    },
    {
      "cell_type": "code",
      "source": [],
      "metadata": {
        "id": "2-2rM1T7Q924"
      },
      "execution_count": null,
      "outputs": []
    },
    {
      "cell_type": "code",
      "source": [],
      "metadata": {
        "id": "KCSnxS5lQ90i"
      },
      "execution_count": null,
      "outputs": []
    },
    {
      "cell_type": "code",
      "source": [],
      "metadata": {
        "id": "6X-ErlhjQ9wX"
      },
      "execution_count": null,
      "outputs": []
    }
  ]
}